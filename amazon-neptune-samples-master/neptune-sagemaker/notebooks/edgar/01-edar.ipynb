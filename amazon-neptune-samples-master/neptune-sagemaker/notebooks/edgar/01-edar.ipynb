{
 "cells": [
  {
   "cell_type": "markdown",
   "metadata": {},
   "source": [
    "# Edgar Holdings \n",
    "\n",
    "The examples in this notebook demonstrate using the GremlinPython library to connect to and work with a Neptune instance. Using a Jupyter notebook in this way provides a nice way to interact with your Neptune graph database in a familiar and instantly productive environment."
   ]
  },
  {
   "cell_type": "markdown",
   "metadata": {},
   "source": [
    "## Connect to the Neptune Database which has the load Edgar Data \n",
    "\n",
    "When the SageMaker notebook instance was created the appropriate Python libraries for working with a Tinkerpop enabled graph were installed. We now need to `import` some classes from those libraries before connecting to our Neptune instance, loading some sample data, and running queries. \n",
    "\n",
    "Below are the packages that need to be installed. This should be executed once to configure the environment. "
   ]
  },
  {
   "cell_type": "code",
   "execution_count": 1,
   "metadata": {},
   "outputs": [
    {
     "name": "stdout",
     "output_type": "stream",
     "text": [
      "Collecting pip\n",
      "\u001b[?25l  Downloading https://files.pythonhosted.org/packages/00/b6/9cfa56b4081ad13874b0c6f96af8ce16cfbc1cb06bedf8e9164ce5551ec1/pip-19.3.1-py2.py3-none-any.whl (1.4MB)\n",
      "\u001b[K    100% |████████████████████████████████| 1.4MB 21.6MB/s ta 0:00:01\n",
      "\u001b[31msparkmagic 0.12.5 has requirement ipykernel<5,>=4.2.2, but you'll have ipykernel 5.1.3 which is incompatible.\u001b[0m\n",
      "\u001b[31msparkmagic 0.12.5 has requirement ipython<7,>=4.0.2, but you'll have ipython 7.9.0 which is incompatible.\u001b[0m\n",
      "\u001b[31msparkmagic 0.12.5 has requirement notebook<6.0,>=4.2, but you'll have notebook 6.0.1 which is incompatible.\u001b[0m\n",
      "\u001b[31mjupyter-console 5.2.0 has requirement prompt_toolkit<2.0.0,>=1.0.0, but you'll have prompt-toolkit 2.0.10 which is incompatible.\u001b[0m\n",
      "\u001b[31mipython-gremlin 1.0.0 has requirement ipython==5.3.0, but you'll have ipython 7.9.0 which is incompatible.\u001b[0m\n",
      "\u001b[31mgremlinpython 3.4.4 has requirement tornado<5.0,>=4.4.1, but you'll have tornado 6.0.3 which is incompatible.\u001b[0m\n",
      "\u001b[31mdocker-compose 1.24.1 has requirement jsonschema<3,>=2.5.1, but you'll have jsonschema 3.1.1 which is incompatible.\u001b[0m\n",
      "\u001b[?25hInstalling collected packages: pip\n",
      "  Found existing installation: pip 10.0.1\n",
      "    Uninstalling pip-10.0.1:\n",
      "      Successfully uninstalled pip-10.0.1\n",
      "Successfully installed pip-19.3.1\n",
      "Collecting futures\n",
      "  Downloading https://files.pythonhosted.org/packages/05/80/f41cca0ea1ff69bce7e7a7d76182b47bb4e1a494380a532af3e8ee70b9ec/futures-3.1.1-py3-none-any.whl\n",
      "Installing collected packages: futures\n",
      "Successfully installed futures-3.1.1\n",
      "Requirement already satisfied: gremlinpython in /home/ec2-user/anaconda3/envs/python3/lib/python3.6/site-packages (3.4.4)\n",
      "Requirement already satisfied: six>=1.10.0 in /home/ec2-user/anaconda3/envs/python3/lib/python3.6/site-packages (from gremlinpython) (1.12.0)\n",
      "Requirement already satisfied: aenum>=1.4.5 in /home/ec2-user/anaconda3/envs/python3/lib/python3.6/site-packages (from gremlinpython) (2.2.2)\n",
      "Processing /home/ec2-user/.cache/pip/wheels/72/bf/f4/b68fa69596986881b397b18ff2b9af5f8181233aadcc9f76fd/tornado-4.5.3-cp36-cp36m-linux_x86_64.whl\n",
      "Requirement already satisfied: isodate>=0.6.0 in /home/ec2-user/anaconda3/envs/python3/lib/python3.6/site-packages (from gremlinpython) (0.6.0)\n",
      "\u001b[31mERROR: sparkmagic 0.12.5 has requirement ipykernel<5,>=4.2.2, but you'll have ipykernel 5.1.3 which is incompatible.\u001b[0m\n",
      "\u001b[31mERROR: sparkmagic 0.12.5 has requirement ipython<7,>=4.0.2, but you'll have ipython 7.9.0 which is incompatible.\u001b[0m\n",
      "\u001b[31mERROR: sparkmagic 0.12.5 has requirement notebook<6.0,>=4.2, but you'll have notebook 6.0.1 which is incompatible.\u001b[0m\n",
      "\u001b[31mERROR: notebook 6.0.1 has requirement tornado>=5.0, but you'll have tornado 4.5.3 which is incompatible.\u001b[0m\n",
      "Installing collected packages: tornado\n",
      "  Found existing installation: tornado 6.0.3\n",
      "    Uninstalling tornado-6.0.3:\n",
      "\u001b[31mERROR: Could not install packages due to an EnvironmentError: [Errno 13] Permission denied: '/home/ec2-user/anaconda3/envs/python3/lib/python3.6/site-packages/tornado/__init__.py'\n",
      "Consider using the `--user` option or check the permissions.\n",
      "\u001b[0m\n",
      "Requirement already satisfied: SPARQLWrapper in /home/ec2-user/anaconda3/envs/python3/lib/python3.6/site-packages (1.8.4)\n",
      "Requirement already satisfied: rdflib>=4.0 in /home/ec2-user/anaconda3/envs/python3/lib/python3.6/site-packages (from SPARQLWrapper) (4.2.2)\n",
      "Requirement already satisfied: isodate in /home/ec2-user/anaconda3/envs/python3/lib/python3.6/site-packages (from rdflib>=4.0->SPARQLWrapper) (0.6.0)\n",
      "Requirement already satisfied: pyparsing in /home/ec2-user/anaconda3/envs/python3/lib/python3.6/site-packages (from rdflib>=4.0->SPARQLWrapper) (2.4.2)\n",
      "Requirement already satisfied: six in /home/ec2-user/anaconda3/envs/python3/lib/python3.6/site-packages (from isodate->rdflib>=4.0->SPARQLWrapper) (1.12.0)\n",
      "Requirement already satisfied: matplotlib in /home/ec2-user/anaconda3/envs/python3/lib/python3.6/site-packages (3.0.3)\n",
      "Requirement already satisfied: python-dateutil>=2.1 in /home/ec2-user/anaconda3/envs/python3/lib/python3.6/site-packages (from matplotlib) (2.8.0)\n",
      "Requirement already satisfied: kiwisolver>=1.0.1 in /home/ec2-user/anaconda3/envs/python3/lib/python3.6/site-packages (from matplotlib) (1.0.1)\n",
      "Requirement already satisfied: numpy>=1.10.0 in /home/ec2-user/anaconda3/envs/python3/lib/python3.6/site-packages (from matplotlib) (1.14.3)\n",
      "Requirement already satisfied: cycler>=0.10 in /home/ec2-user/anaconda3/envs/python3/lib/python3.6/site-packages (from matplotlib) (0.10.0)\n",
      "Requirement already satisfied: pyparsing!=2.0.4,!=2.1.2,!=2.1.6,>=2.0.1 in /home/ec2-user/anaconda3/envs/python3/lib/python3.6/site-packages (from matplotlib) (2.4.2)\n",
      "Requirement already satisfied: six>=1.5 in /home/ec2-user/anaconda3/envs/python3/lib/python3.6/site-packages (from python-dateutil>=2.1->matplotlib) (1.12.0)\n",
      "Requirement already satisfied: setuptools in /home/ec2-user/anaconda3/envs/python3/lib/python3.6/site-packages (from kiwisolver>=1.0.1->matplotlib) (41.6.0)\n",
      "Requirement already satisfied: numpy in /home/ec2-user/anaconda3/envs/python3/lib/python3.6/site-packages (1.14.3)\n",
      "Requirement already satisfied: pandas in /home/ec2-user/anaconda3/envs/python3/lib/python3.6/site-packages (0.24.2)\n",
      "Requirement already satisfied: python-dateutil>=2.5.0 in /home/ec2-user/anaconda3/envs/python3/lib/python3.6/site-packages (from pandas) (2.8.0)\n",
      "Requirement already satisfied: pytz>=2011k in /home/ec2-user/anaconda3/envs/python3/lib/python3.6/site-packages (from pandas) (2018.4)\n",
      "Requirement already satisfied: numpy>=1.12.0 in /home/ec2-user/anaconda3/envs/python3/lib/python3.6/site-packages (from pandas) (1.14.3)\n",
      "Requirement already satisfied: six>=1.5 in /home/ec2-user/anaconda3/envs/python3/lib/python3.6/site-packages (from python-dateutil>=2.5.0->pandas) (1.12.0)\n",
      "Requirement already satisfied: networkx in /home/ec2-user/anaconda3/envs/python3/lib/python3.6/site-packages (2.1)\n",
      "Requirement already satisfied: decorator>=4.1.0 in /home/ec2-user/anaconda3/envs/python3/lib/python3.6/site-packages (from networkx) (4.4.1)\n"
     ]
    }
   ],
   "source": [
    "!pip install --upgrade pip\n",
    "!pip install futures  \n",
    "!pip install gremlinpython\n",
    "!pip install SPARQLWrapper\n",
    "!pip install matplotlib\n",
    "!pip install numpy \n",
    "!pip install pandas \n",
    "!pip install networkx "
   ]
  },
  {
   "cell_type": "code",
   "execution_count": null,
   "metadata": {},
   "outputs": [],
   "source": [
    "%run '../util/neptune.py'"
   ]
  },
  {
   "cell_type": "markdown",
   "metadata": {},
   "source": [
    "## Establish access to our Neptune instance\n",
    "\n",
    "Before we can work with our graph we need to establish a connection to it. This is done using the `DriverRemoteConnection` capability as defined by Apache TinkerPop and supported by GremlinPython. The `neptune.py` helper module facilitates creating this connection.\n",
    "\n",
    "Once this cell has been run we will be able to use the variable `g` to refer to our graph in Gremlin queries in subsequent cells. By default Neptune uses port 8182 and that is what we connect to below. When you configure your own Neptune instance you can you choose a different endpoint and port number by specifiying the `neptune_endpoint` and `neptune_port` parameters to the `graphTraversal()` method."
   ]
  },
  {
   "cell_type": "code",
   "execution_count": null,
   "metadata": {},
   "outputs": [],
   "source": [
    "endpoint=\"neptuneuser.cluster-carpeooi4ov5.us-east-1.neptune.amazonaws.com\"\n",
    "port=8182\n",
    "my_region='us-east-1'\n",
    "g = neptune.graphTraversal(neptune_endpoint=endpoint,neptune_port=port)\n",
    "print(\"g = {0} \".format(g))"
   ]
  },
  {
   "cell_type": "markdown",
   "metadata": {},
   "source": [
    "## Data for Analysis \n",
    "IF you are using a neptune graph that was loaded by another process then do not uncomment these line. \n",
    "IF the graph is empty you can load data from a single quater. The following code will \n",
    " - clear the grpah of any data \n",
    " - copy the sample data to s3 \n",
    " - bulk load the data \n",
    "For this to work you will need to have created an S3 bucket and update the variable #s3bucket to its name . You should define a \n",
    "#key to be associated with the entries. You also need to define an IAM role #NEPTUNE_LOAD_FROM_S3_ROLE_ARN as explained in the neptune documentation. https://docs.aws.amazon.com/neptune/latest/userguide/bulk-load-tutorial-IAM.html\n"
   ]
  },
  {
   "cell_type": "code",
   "execution_count": null,
   "metadata": {},
   "outputs": [],
   "source": [
    "import boto3\n",
    "s3 = boto3.resource('s3')\n",
    "\n",
    "s3bucket=\"s3stockmktdata\"\n",
    "key=\"neptune\"\n",
    "s3role=\"arn:aws:iam::983739021977:role/NeptuneLoadFromS3\"\n",
    "\n",
    "fileslist= [ \"security.csv\" ,\"securityholdr.csv\",\"srelations.csv\" ]\n",
    "localhome=\"/home/ec2-user/SageMaker/amazon-neptune-samples/neptune-sagemaker/notebooks/edgar\"\n",
    "bulkloaddir=\"s3://{0}/{1}/\".format(s3bucket,key)\n",
    "\n",
    "neptune.clear(neptune_endpoint=endpoint,neptune_port=8182)\n",
    "\n",
    "for filename in fileslist :  \n",
    "    afile=\"{0}/{1}\".format(localhome,filename)\n",
    "    rmtfilename=\"{0}/{1}\".format(key,filename)\n",
    "    bulkloaddir=\"s3://{0}/{1}/{2}\".format(s3bucket,key,filename)\n",
    "    print(\"Copy local file {0} \\n to s3 filename={1}\".format(localfile,rmtfilename))\n",
    "    print(\"Neptune Load of {0} \".format(bulkloaddir))\n",
    "    s3.Bucket(s3bucket).upload_file(localfile,rmtfilename)\n",
    "    neptune.bulkLoad(bulkloaddir,format='csv', interval=5,role=s3role,region=my_region,neptune_endpoint=endpoint,neptune_port=8182)"
   ]
  },
  {
   "cell_type": "markdown",
   "metadata": {},
   "source": [
    "## Let's find out a bit about the graph\n",
    "\n",
    "Let's start off with a simple query just to make sure our connection to Neptune is working. The queries below look at all of the vertices and edges in the graph and create two maps that show the demographic of the graph. As we are using the air routes data set, not surprisingly, the values returned are related to airports and routes."
   ]
  },
  {
   "cell_type": "code",
   "execution_count": null,
   "metadata": {},
   "outputs": [],
   "source": [
    "vertices = g.V().groupCount().by(T.label).toList()\n",
    "edges  = g.E().groupCount().by(T.label).toList()\n",
    "print(\"Vertices ={0}\".format(vertices))\n",
    "print(\"Edges = {0} \".format(edges))"
   ]
  },
  {
   "cell_type": "markdown",
   "metadata": {},
   "source": [
    "Now let take a look at some of the relationships. Holder are the Vertexs that are in possesion of the security .\n",
    "The edges are the details from the edgar docments that link holders to securities. "
   ]
  },
  {
   "cell_type": "code",
   "execution_count": null,
   "metadata": {},
   "outputs": [],
   "source": [
    "securitypath =  g.V().toList()\n",
    "\n",
    "print(securitypath)"
   ]
  },
  {
   "cell_type": "code",
   "execution_count": null,
   "metadata": {},
   "outputs": [],
   "source": [
    "countedgae = g.V().hasLabel('13F-HR').by(outE().count()).by(out().groupCount().by(label))\n",
    "print(countedgae)"
   ]
  },
  {
   "cell_type": "code",
   "execution_count": null,
   "metadata": {},
   "outputs": [],
   "source": []
  }
 ],
 "metadata": {
  "kernelspec": {
   "display_name": "conda_python3",
   "language": "python",
   "name": "conda_python3"
  },
  "language_info": {
   "codemirror_mode": {
    "name": "ipython",
    "version": 3
   },
   "file_extension": ".py",
   "mimetype": "text/x-python",
   "name": "python",
   "nbconvert_exporter": "python",
   "pygments_lexer": "ipython3",
   "version": "3.6.5"
  }
 },
 "nbformat": 4,
 "nbformat_minor": 4
}
