{
 "cells": [
  {
   "cell_type": "markdown",
   "metadata": {},
   "source": [
    "# Use Case 1"
   ]
  },
  {
   "cell_type": "markdown",
   "metadata": {},
   "source": [
    "Find the companies where X has worked, and their roles at those companies"
   ]
  },
  {
   "cell_type": "markdown",
   "metadata": {},
   "source": [
    "## What questions would we have to ask of our data?"
   ]
  },
  {
   "cell_type": "markdown",
   "metadata": {},
   "source": [
    "_\"Which companies has X worked for, and in what roles?\"_\n",
    "\n",
    "Reviewing this question we can identify several entities, attributes and relationships. We have the concept of a _company_, a _person_ (X), and a _role_. Further, a person _worked for_ a company.\n",
    "\n",
    "_Company_ and _Person_ are both entities, which we'll model as vertices with appropriate labels. For now, we'll assume a direct relationship between a person and a company: a person _WORKED FOR_ a company. We'll make _role_ an attribute of this relationship.\n",
    "\n",
    "Adding in a few properties – _firstName_ and _lastName_ for a person, _name_ for a company – we end up with the following data model:"
   ]
  },
  {
   "cell_type": "markdown",
   "metadata": {},
   "source": [
    "<img src=\"https://s3.amazonaws.com/aws-neptune-customer-samples/neptune-sagemaker/images/data-modelling-04.png\"/>"
   ]
  },
  {
   "cell_type": "markdown",
   "metadata": {},
   "source": [
    "### Keep it simple"
   ]
  },
  {
   "cell_type": "markdown",
   "metadata": {},
   "source": [
    "Over the course of this exercise we'll see _role_ change place several times. At this stage it's a simple attribute of a relationship. In later steps we'll see it promoted to being a vertex in its own right.\n",
    "\n",
    "As far as our current use case is concerned, role appears to be a simple value type, much like colour, height or weight. If it were a complex value type with several fields – such as address – or if there were some explicit structural relations between values – as there are in a category hierarchy – we would consider making it a vertex from the outset."
   ]
  },
  {
   "cell_type": "markdown",
   "metadata": {},
   "source": [
    "## Sample dataset"
   ]
  },
  {
   "cell_type": "markdown",
   "metadata": {},
   "source": [
    "We'll now create a sample dataset in line with our model. We'll include enough data to ensure that our queries have to exclude some portions of the graph in order to return a correct result."
   ]
  },
  {
   "cell_type": "markdown",
   "metadata": {},
   "source": [
    "<img src=\"https://s3.amazonaws.com/aws-neptune-customer-samples/neptune-sagemaker/images/data-modelling-01.png\"/>"
   ]
  },
  {
   "cell_type": "markdown",
   "metadata": {},
   "source": [
    "### Creating our sample data"
   ]
  },
  {
   "cell_type": "code",
   "execution_count": 3,
   "metadata": {},
   "outputs": [
    {
     "name": "stdout",
     "output_type": "stream",
     "text": [
      "The ipython_unittest extension is already loaded. To reload it, use:\n",
      "  %reload_ext ipython_unittest\n"
     ]
    }
   ],
   "source": [
    "%load_ext ipython_unittest\n",
    "%run '../../../neptune-sagemaker/notebooks/util/neptune.py'"
   ]
  },
  {
   "cell_type": "code",
   "execution_count": 4,
   "metadata": {},
   "outputs": [
    {
     "name": "stdout",
     "output_type": "stream",
     "text": [
      "clearing data...\n",
      "clearing property graph data [edge_batch_size=200, edge_count=Unknown]...\n",
      "clearing property graph data [edge_batch_size=200, edge_count=56958]...\n",
      "clearing property graph data [edge_batch_size=200, edge_count=56758]...\n",
      "clearing property graph data [edge_batch_size=200, edge_count=56558]...\n",
      "clearing property graph data [edge_batch_size=200, edge_count=56358]...\n",
      "clearing property graph data [edge_batch_size=200, edge_count=56158]...\n",
      "clearing property graph data [edge_batch_size=200, edge_count=55958]...\n",
      "clearing property graph data [edge_batch_size=200, edge_count=55758]...\n",
      "clearing property graph data [edge_batch_size=200, edge_count=55558]...\n",
      "clearing property graph data [edge_batch_size=200, edge_count=55358]...\n",
      "clearing property graph data [edge_batch_size=200, edge_count=55158]...\n",
      "clearing property graph data [edge_batch_size=200, edge_count=54958]...\n",
      "clearing property graph data [edge_batch_size=200, edge_count=54758]...\n",
      "clearing property graph data [edge_batch_size=200, edge_count=54558]...\n",
      "clearing property graph data [edge_batch_size=200, edge_count=54358]...\n",
      "clearing property graph data [edge_batch_size=200, edge_count=54158]...\n",
      "clearing property graph data [edge_batch_size=200, edge_count=53958]...\n",
      "clearing property graph data [edge_batch_size=200, edge_count=53758]...\n",
      "clearing property graph data [edge_batch_size=200, edge_count=53558]...\n",
      "clearing property graph data [edge_batch_size=200, edge_count=53358]...\n",
      "clearing property graph data [edge_batch_size=200, edge_count=53158]...\n",
      "clearing property graph data [edge_batch_size=200, edge_count=52958]...\n",
      "clearing property graph data [edge_batch_size=200, edge_count=52758]...\n",
      "clearing property graph data [edge_batch_size=200, edge_count=52558]...\n",
      "clearing property graph data [edge_batch_size=200, edge_count=52358]...\n",
      "clearing property graph data [edge_batch_size=200, edge_count=52158]...\n",
      "clearing property graph data [edge_batch_size=200, edge_count=51958]...\n",
      "clearing property graph data [edge_batch_size=200, edge_count=51758]...\n",
      "clearing property graph data [edge_batch_size=200, edge_count=51558]...\n",
      "clearing property graph data [edge_batch_size=200, edge_count=51358]...\n",
      "clearing property graph data [edge_batch_size=200, edge_count=51158]...\n",
      "clearing property graph data [edge_batch_size=200, edge_count=50958]...\n",
      "clearing property graph data [edge_batch_size=200, edge_count=50758]...\n",
      "clearing property graph data [edge_batch_size=200, edge_count=50558]...\n",
      "clearing property graph data [edge_batch_size=200, edge_count=50358]...\n",
      "clearing property graph data [edge_batch_size=200, edge_count=50158]...\n",
      "clearing property graph data [edge_batch_size=200, edge_count=49958]...\n",
      "clearing property graph data [edge_batch_size=200, edge_count=49758]...\n",
      "clearing property graph data [edge_batch_size=200, edge_count=49558]...\n",
      "clearing property graph data [edge_batch_size=200, edge_count=49358]...\n",
      "clearing property graph data [edge_batch_size=200, edge_count=49158]...\n",
      "clearing property graph data [edge_batch_size=200, edge_count=48958]...\n",
      "clearing property graph data [edge_batch_size=200, edge_count=48758]...\n",
      "clearing property graph data [edge_batch_size=200, edge_count=48558]...\n",
      "clearing property graph data [edge_batch_size=200, edge_count=48358]...\n",
      "clearing property graph data [edge_batch_size=200, edge_count=48158]...\n",
      "clearing property graph data [edge_batch_size=200, edge_count=47958]...\n",
      "clearing property graph data [edge_batch_size=200, edge_count=47758]...\n",
      "clearing property graph data [edge_batch_size=200, edge_count=47558]...\n",
      "clearing property graph data [edge_batch_size=200, edge_count=47358]...\n",
      "clearing property graph data [edge_batch_size=200, edge_count=47158]...\n",
      "clearing property graph data [edge_batch_size=200, edge_count=46958]...\n",
      "clearing property graph data [edge_batch_size=200, edge_count=46758]...\n",
      "clearing property graph data [edge_batch_size=200, edge_count=46558]...\n",
      "clearing property graph data [edge_batch_size=200, edge_count=46358]...\n",
      "clearing property graph data [edge_batch_size=200, edge_count=46158]...\n",
      "clearing property graph data [edge_batch_size=200, edge_count=45958]...\n",
      "clearing property graph data [edge_batch_size=200, edge_count=45758]...\n",
      "clearing property graph data [edge_batch_size=200, edge_count=45558]...\n",
      "clearing property graph data [edge_batch_size=200, edge_count=45358]...\n",
      "clearing property graph data [edge_batch_size=200, edge_count=45158]...\n",
      "clearing property graph data [edge_batch_size=200, edge_count=44958]...\n",
      "clearing property graph data [edge_batch_size=200, edge_count=44758]...\n",
      "clearing property graph data [edge_batch_size=200, edge_count=44558]...\n",
      "clearing property graph data [edge_batch_size=200, edge_count=44358]...\n",
      "clearing property graph data [edge_batch_size=200, edge_count=44158]...\n",
      "clearing property graph data [edge_batch_size=200, edge_count=43958]...\n",
      "clearing property graph data [edge_batch_size=200, edge_count=43758]...\n",
      "clearing property graph data [edge_batch_size=200, edge_count=43558]...\n",
      "clearing property graph data [edge_batch_size=200, edge_count=43358]...\n",
      "clearing property graph data [edge_batch_size=200, edge_count=43158]...\n",
      "clearing property graph data [edge_batch_size=200, edge_count=42958]...\n",
      "clearing property graph data [edge_batch_size=200, edge_count=42758]...\n",
      "clearing property graph data [edge_batch_size=200, edge_count=42558]...\n",
      "clearing property graph data [edge_batch_size=200, edge_count=42358]...\n",
      "clearing property graph data [edge_batch_size=200, edge_count=42158]...\n",
      "clearing property graph data [edge_batch_size=200, edge_count=41958]...\n",
      "clearing property graph data [edge_batch_size=200, edge_count=41758]...\n",
      "clearing property graph data [edge_batch_size=200, edge_count=41558]...\n",
      "clearing property graph data [edge_batch_size=200, edge_count=41358]...\n",
      "clearing property graph data [edge_batch_size=200, edge_count=41158]...\n",
      "clearing property graph data [edge_batch_size=200, edge_count=40958]...\n",
      "clearing property graph data [edge_batch_size=200, edge_count=40758]...\n",
      "clearing property graph data [edge_batch_size=200, edge_count=40558]...\n",
      "clearing property graph data [edge_batch_size=200, edge_count=40358]...\n",
      "clearing property graph data [edge_batch_size=200, edge_count=40158]...\n",
      "clearing property graph data [edge_batch_size=200, edge_count=39958]...\n",
      "clearing property graph data [edge_batch_size=200, edge_count=39758]...\n",
      "clearing property graph data [edge_batch_size=200, edge_count=39558]...\n",
      "clearing property graph data [edge_batch_size=200, edge_count=39358]...\n",
      "clearing property graph data [edge_batch_size=200, edge_count=39158]...\n",
      "clearing property graph data [edge_batch_size=200, edge_count=38958]...\n",
      "clearing property graph data [edge_batch_size=200, edge_count=38758]...\n",
      "clearing property graph data [edge_batch_size=200, edge_count=38558]...\n",
      "clearing property graph data [edge_batch_size=200, edge_count=38358]...\n",
      "clearing property graph data [edge_batch_size=200, edge_count=38158]...\n",
      "clearing property graph data [edge_batch_size=200, edge_count=37958]...\n",
      "clearing property graph data [edge_batch_size=200, edge_count=37758]...\n",
      "clearing property graph data [edge_batch_size=200, edge_count=37558]...\n",
      "clearing property graph data [edge_batch_size=200, edge_count=37358]...\n",
      "clearing property graph data [edge_batch_size=200, edge_count=37158]...\n",
      "clearing property graph data [edge_batch_size=200, edge_count=36958]...\n",
      "clearing property graph data [edge_batch_size=200, edge_count=36758]...\n",
      "clearing property graph data [edge_batch_size=200, edge_count=36558]...\n",
      "clearing property graph data [edge_batch_size=200, edge_count=36358]...\n",
      "clearing property graph data [edge_batch_size=200, edge_count=36158]...\n",
      "clearing property graph data [edge_batch_size=200, edge_count=35958]...\n",
      "clearing property graph data [edge_batch_size=200, edge_count=35758]...\n",
      "clearing property graph data [edge_batch_size=200, edge_count=35558]...\n",
      "clearing property graph data [edge_batch_size=200, edge_count=35358]...\n",
      "clearing property graph data [edge_batch_size=200, edge_count=35158]...\n",
      "clearing property graph data [edge_batch_size=200, edge_count=34958]...\n",
      "clearing property graph data [edge_batch_size=200, edge_count=34758]...\n",
      "clearing property graph data [edge_batch_size=200, edge_count=34558]...\n",
      "clearing property graph data [edge_batch_size=200, edge_count=34358]...\n",
      "clearing property graph data [edge_batch_size=200, edge_count=34158]...\n",
      "clearing property graph data [edge_batch_size=200, edge_count=33958]...\n",
      "clearing property graph data [edge_batch_size=200, edge_count=33758]...\n",
      "clearing property graph data [edge_batch_size=200, edge_count=33558]...\n",
      "clearing property graph data [edge_batch_size=200, edge_count=33358]...\n",
      "clearing property graph data [edge_batch_size=200, edge_count=33158]...\n",
      "clearing property graph data [edge_batch_size=200, edge_count=32958]...\n",
      "clearing property graph data [edge_batch_size=200, edge_count=32758]...\n",
      "clearing property graph data [edge_batch_size=200, edge_count=32558]...\n",
      "clearing property graph data [edge_batch_size=200, edge_count=32358]...\n",
      "clearing property graph data [edge_batch_size=200, edge_count=32158]...\n",
      "clearing property graph data [edge_batch_size=200, edge_count=31958]...\n",
      "clearing property graph data [edge_batch_size=200, edge_count=31758]...\n",
      "clearing property graph data [edge_batch_size=200, edge_count=31558]...\n",
      "clearing property graph data [edge_batch_size=200, edge_count=31358]...\n",
      "clearing property graph data [edge_batch_size=200, edge_count=31158]...\n",
      "clearing property graph data [edge_batch_size=200, edge_count=30958]...\n",
      "clearing property graph data [edge_batch_size=200, edge_count=30758]...\n",
      "clearing property graph data [edge_batch_size=200, edge_count=30558]...\n",
      "clearing property graph data [edge_batch_size=200, edge_count=30358]...\n",
      "clearing property graph data [edge_batch_size=200, edge_count=30158]...\n",
      "clearing property graph data [edge_batch_size=200, edge_count=29958]...\n",
      "clearing property graph data [edge_batch_size=200, edge_count=29758]...\n",
      "clearing property graph data [edge_batch_size=200, edge_count=29558]...\n",
      "clearing property graph data [edge_batch_size=200, edge_count=29358]...\n",
      "clearing property graph data [edge_batch_size=200, edge_count=29158]...\n",
      "clearing property graph data [edge_batch_size=200, edge_count=28958]...\n",
      "clearing property graph data [edge_batch_size=200, edge_count=28758]...\n",
      "clearing property graph data [edge_batch_size=200, edge_count=28558]...\n",
      "clearing property graph data [edge_batch_size=200, edge_count=28358]...\n",
      "clearing property graph data [edge_batch_size=200, edge_count=28158]...\n",
      "clearing property graph data [edge_batch_size=200, edge_count=27958]...\n",
      "clearing property graph data [edge_batch_size=200, edge_count=27758]...\n",
      "clearing property graph data [edge_batch_size=200, edge_count=27558]...\n",
      "clearing property graph data [edge_batch_size=200, edge_count=27358]...\n",
      "clearing property graph data [edge_batch_size=200, edge_count=27158]...\n",
      "clearing property graph data [edge_batch_size=200, edge_count=26958]...\n",
      "clearing property graph data [edge_batch_size=200, edge_count=26758]...\n",
      "clearing property graph data [edge_batch_size=200, edge_count=26558]...\n",
      "clearing property graph data [edge_batch_size=200, edge_count=26358]...\n",
      "clearing property graph data [edge_batch_size=200, edge_count=26158]...\n",
      "clearing property graph data [edge_batch_size=200, edge_count=25958]...\n",
      "clearing property graph data [edge_batch_size=200, edge_count=25758]...\n",
      "clearing property graph data [edge_batch_size=200, edge_count=25558]...\n",
      "clearing property graph data [edge_batch_size=200, edge_count=25358]...\n",
      "clearing property graph data [edge_batch_size=200, edge_count=25158]...\n",
      "clearing property graph data [edge_batch_size=200, edge_count=24958]...\n",
      "clearing property graph data [edge_batch_size=200, edge_count=24758]...\n",
      "clearing property graph data [edge_batch_size=200, edge_count=24558]...\n",
      "clearing property graph data [edge_batch_size=200, edge_count=24358]...\n",
      "clearing property graph data [edge_batch_size=200, edge_count=24158]...\n",
      "clearing property graph data [edge_batch_size=200, edge_count=23958]...\n",
      "clearing property graph data [edge_batch_size=200, edge_count=23758]...\n",
      "clearing property graph data [edge_batch_size=200, edge_count=23558]...\n",
      "clearing property graph data [edge_batch_size=200, edge_count=23358]...\n",
      "clearing property graph data [edge_batch_size=200, edge_count=23158]...\n",
      "clearing property graph data [edge_batch_size=200, edge_count=22958]...\n",
      "clearing property graph data [edge_batch_size=200, edge_count=22758]...\n",
      "clearing property graph data [edge_batch_size=200, edge_count=22558]...\n",
      "clearing property graph data [edge_batch_size=200, edge_count=22358]...\n",
      "clearing property graph data [edge_batch_size=200, edge_count=22158]...\n",
      "clearing property graph data [edge_batch_size=200, edge_count=21958]...\n",
      "clearing property graph data [edge_batch_size=200, edge_count=21758]...\n",
      "clearing property graph data [edge_batch_size=200, edge_count=21558]...\n",
      "clearing property graph data [edge_batch_size=200, edge_count=21358]...\n",
      "clearing property graph data [edge_batch_size=200, edge_count=21158]...\n",
      "clearing property graph data [edge_batch_size=200, edge_count=20958]...\n",
      "clearing property graph data [edge_batch_size=200, edge_count=20758]...\n",
      "clearing property graph data [edge_batch_size=200, edge_count=20558]...\n",
      "clearing property graph data [edge_batch_size=200, edge_count=20358]...\n",
      "clearing property graph data [edge_batch_size=200, edge_count=20158]...\n",
      "clearing property graph data [edge_batch_size=200, edge_count=19958]...\n",
      "clearing property graph data [edge_batch_size=200, edge_count=19758]...\n",
      "clearing property graph data [edge_batch_size=200, edge_count=19558]...\n",
      "clearing property graph data [edge_batch_size=200, edge_count=19358]...\n",
      "clearing property graph data [edge_batch_size=200, edge_count=19158]...\n",
      "clearing property graph data [edge_batch_size=200, edge_count=18958]...\n",
      "clearing property graph data [edge_batch_size=200, edge_count=18758]...\n",
      "clearing property graph data [edge_batch_size=200, edge_count=18558]...\n",
      "clearing property graph data [edge_batch_size=200, edge_count=18358]...\n",
      "clearing property graph data [edge_batch_size=200, edge_count=18158]...\n",
      "clearing property graph data [edge_batch_size=200, edge_count=17958]...\n",
      "clearing property graph data [edge_batch_size=200, edge_count=17758]...\n",
      "clearing property graph data [edge_batch_size=200, edge_count=17558]...\n",
      "clearing property graph data [edge_batch_size=200, edge_count=17358]...\n",
      "clearing property graph data [edge_batch_size=200, edge_count=17158]...\n",
      "clearing property graph data [edge_batch_size=200, edge_count=16958]...\n",
      "clearing property graph data [edge_batch_size=200, edge_count=16758]...\n",
      "clearing property graph data [edge_batch_size=200, edge_count=16558]...\n",
      "clearing property graph data [edge_batch_size=200, edge_count=16358]...\n",
      "clearing property graph data [edge_batch_size=200, edge_count=16158]...\n",
      "clearing property graph data [edge_batch_size=200, edge_count=15958]...\n",
      "clearing property graph data [edge_batch_size=200, edge_count=15758]...\n",
      "clearing property graph data [edge_batch_size=200, edge_count=15558]...\n",
      "clearing property graph data [edge_batch_size=200, edge_count=15358]...\n",
      "clearing property graph data [edge_batch_size=200, edge_count=15158]...\n",
      "clearing property graph data [edge_batch_size=200, edge_count=14958]...\n",
      "clearing property graph data [edge_batch_size=200, edge_count=14758]...\n",
      "clearing property graph data [edge_batch_size=200, edge_count=14558]...\n",
      "clearing property graph data [edge_batch_size=200, edge_count=14358]...\n",
      "clearing property graph data [edge_batch_size=200, edge_count=14158]...\n",
      "clearing property graph data [edge_batch_size=200, edge_count=13958]...\n",
      "clearing property graph data [edge_batch_size=200, edge_count=13758]...\n",
      "clearing property graph data [edge_batch_size=200, edge_count=13558]...\n",
      "clearing property graph data [edge_batch_size=200, edge_count=13358]...\n",
      "clearing property graph data [edge_batch_size=200, edge_count=13158]...\n",
      "clearing property graph data [edge_batch_size=200, edge_count=12958]...\n",
      "clearing property graph data [edge_batch_size=200, edge_count=12758]...\n",
      "clearing property graph data [edge_batch_size=200, edge_count=12558]...\n",
      "clearing property graph data [edge_batch_size=200, edge_count=12358]...\n",
      "clearing property graph data [edge_batch_size=200, edge_count=12158]...\n",
      "clearing property graph data [edge_batch_size=200, edge_count=11958]...\n",
      "clearing property graph data [edge_batch_size=200, edge_count=11758]...\n",
      "clearing property graph data [edge_batch_size=200, edge_count=11558]...\n",
      "clearing property graph data [edge_batch_size=200, edge_count=11358]...\n",
      "clearing property graph data [edge_batch_size=200, edge_count=11158]...\n",
      "clearing property graph data [edge_batch_size=200, edge_count=10958]...\n",
      "clearing property graph data [edge_batch_size=200, edge_count=10758]...\n",
      "clearing property graph data [edge_batch_size=200, edge_count=10558]...\n",
      "clearing property graph data [edge_batch_size=200, edge_count=10358]...\n",
      "clearing property graph data [edge_batch_size=200, edge_count=10158]...\n",
      "clearing property graph data [edge_batch_size=200, edge_count=9958]...\n",
      "clearing property graph data [edge_batch_size=200, edge_count=9758]...\n",
      "clearing property graph data [edge_batch_size=200, edge_count=9558]...\n",
      "clearing property graph data [edge_batch_size=200, edge_count=9358]...\n",
      "clearing property graph data [edge_batch_size=200, edge_count=9158]...\n",
      "clearing property graph data [edge_batch_size=200, edge_count=8958]...\n",
      "clearing property graph data [edge_batch_size=200, edge_count=8758]...\n",
      "clearing property graph data [edge_batch_size=200, edge_count=8558]...\n",
      "clearing property graph data [edge_batch_size=200, edge_count=8358]...\n",
      "clearing property graph data [edge_batch_size=200, edge_count=8158]...\n",
      "clearing property graph data [edge_batch_size=200, edge_count=7958]...\n",
      "clearing property graph data [edge_batch_size=200, edge_count=7758]...\n",
      "clearing property graph data [edge_batch_size=200, edge_count=7558]...\n",
      "clearing property graph data [edge_batch_size=200, edge_count=7358]...\n",
      "clearing property graph data [edge_batch_size=200, edge_count=7158]...\n",
      "clearing property graph data [edge_batch_size=200, edge_count=6958]...\n",
      "clearing property graph data [edge_batch_size=200, edge_count=6758]...\n",
      "clearing property graph data [edge_batch_size=200, edge_count=6558]...\n",
      "clearing property graph data [edge_batch_size=200, edge_count=6358]...\n",
      "clearing property graph data [edge_batch_size=200, edge_count=6158]...\n",
      "clearing property graph data [edge_batch_size=200, edge_count=5958]...\n",
      "clearing property graph data [edge_batch_size=200, edge_count=5758]...\n",
      "clearing property graph data [edge_batch_size=200, edge_count=5558]...\n",
      "clearing property graph data [edge_batch_size=200, edge_count=5358]...\n",
      "clearing property graph data [edge_batch_size=200, edge_count=5158]...\n",
      "clearing property graph data [edge_batch_size=200, edge_count=4958]...\n",
      "clearing property graph data [edge_batch_size=200, edge_count=4758]...\n",
      "clearing property graph data [edge_batch_size=200, edge_count=4558]...\n",
      "clearing property graph data [edge_batch_size=200, edge_count=4358]...\n",
      "clearing property graph data [edge_batch_size=200, edge_count=4158]...\n",
      "clearing property graph data [edge_batch_size=200, edge_count=3958]...\n",
      "clearing property graph data [edge_batch_size=200, edge_count=3758]...\n",
      "clearing property graph data [edge_batch_size=200, edge_count=3558]...\n",
      "clearing property graph data [edge_batch_size=200, edge_count=3358]...\n",
      "clearing property graph data [edge_batch_size=200, edge_count=3158]...\n",
      "clearing property graph data [edge_batch_size=200, edge_count=2958]...\n",
      "clearing property graph data [edge_batch_size=200, edge_count=2758]...\n",
      "clearing property graph data [edge_batch_size=200, edge_count=2558]...\n",
      "clearing property graph data [edge_batch_size=200, edge_count=2358]...\n",
      "clearing property graph data [edge_batch_size=200, edge_count=2158]...\n",
      "clearing property graph data [edge_batch_size=200, edge_count=1958]...\n",
      "clearing property graph data [edge_batch_size=200, edge_count=1758]...\n",
      "clearing property graph data [edge_batch_size=200, edge_count=1558]...\n",
      "clearing property graph data [edge_batch_size=200, edge_count=1358]...\n",
      "clearing property graph data [edge_batch_size=200, edge_count=1158]...\n",
      "clearing property graph data [edge_batch_size=200, edge_count=958]...\n",
      "clearing property graph data [edge_batch_size=200, edge_count=758]...\n",
      "clearing property graph data [edge_batch_size=200, edge_count=558]...\n",
      "clearing property graph data [edge_batch_size=200, edge_count=358]...\n",
      "clearing property graph data [edge_batch_size=200, edge_count=158]...\n",
      "clearing property graph data [vertex_batch_size=200, vertex_count=Unknown]...\n",
      "clearing property graph data [vertex_batch_size=200, vertex_count=3509]...\n",
      "clearing property graph data [vertex_batch_size=200, vertex_count=3309]...\n",
      "clearing property graph data [vertex_batch_size=200, vertex_count=3109]...\n",
      "clearing property graph data [vertex_batch_size=200, vertex_count=2909]...\n",
      "clearing property graph data [vertex_batch_size=200, vertex_count=2709]...\n",
      "clearing property graph data [vertex_batch_size=200, vertex_count=2509]...\n",
      "clearing property graph data [vertex_batch_size=200, vertex_count=2309]...\n",
      "clearing property graph data [vertex_batch_size=200, vertex_count=2109]...\n",
      "clearing property graph data [vertex_batch_size=200, vertex_count=1909]...\n",
      "clearing property graph data [vertex_batch_size=200, vertex_count=1709]...\n",
      "clearing property graph data [vertex_batch_size=200, vertex_count=1509]...\n",
      "clearing property graph data [vertex_batch_size=200, vertex_count=1309]...\n",
      "clearing property graph data [vertex_batch_size=200, vertex_count=1109]...\n",
      "clearing property graph data [vertex_batch_size=200, vertex_count=909]...\n",
      "clearing property graph data [vertex_batch_size=200, vertex_count=709]...\n",
      "clearing property graph data [vertex_batch_size=200, vertex_count=509]...\n",
      "clearing property graph data [vertex_batch_size=200, vertex_count=309]...\n",
      "clearing property graph data [vertex_batch_size=200, vertex_count=109]...\n",
      "clearing rdf data...\n",
      "done\n",
      "gremlin: ws://neptunedbcluster-yerskextnimt.cluster-celzemcpl3ha.us-east-1.neptune.amazonaws.com:8182/gremlin\n"
     ]
    }
   ],
   "source": [
    "neptune.clear()\n",
    "g = neptune.graphTraversal()"
   ]
  },
  {
   "cell_type": "code",
   "execution_count": 5,
   "metadata": {},
   "outputs": [
    {
     "data": {
      "text/plain": [
       "[e[78b71093-0d41-c6f7-8d49-9dba479bfb38][p-3-WORKED_FOR->c-2]]"
      ]
     },
     "execution_count": 5,
     "metadata": {},
     "output_type": "execute_result"
    }
   ],
   "source": [
    "(g.\n",
    "   addV('Person').property(id,'p-1').property('firstName','Martha').property('lastName','Rivera').\n",
    "   addV('Person').property(id,'p-2').property('firstName','Richard').property('lastName','Roe').\n",
    "   addV('Person').property(id,'p-3').property('firstName','Li').property('lastName','Juan').\n",
    "   addV('Person').property(id,'p-4').property('firstName','John').property('lastName','Stiles').\n",
    "   addV('Person').property(id,'p-5').property('firstName','Saanvi').property('lastName','Sarkar').\n",
    "   addV('Company').property(id,'c-1').property('name','Example Corp').\n",
    "   addV('Company').property(id,'c-2').property('name','AnyCompany').\n",
    "   V('p-1').addE('WORKED_FOR').to(V('c-1')).property('role','Principal Analyst').                         \n",
    "   V('p-2').addE('WORKED_FOR').to(V('c-1')).property('role','Senior Analyst').                           \n",
    "   V('p-3').addE('WORKED_FOR').to(V('c-1')).property('role','Analyst').\n",
    "   V('p-4').addE('WORKED_FOR').to(V('c-1')).property('role','Analyst').                           \n",
    "   V('p-5').addE('WORKED_FOR').to(V('c-2')).property('role','Manager').\n",
    "   V('p-3').addE('WORKED_FOR').to(V('c-2')).property('role','Associate Analyst').\n",
    "   toList())"
   ]
  },
  {
   "cell_type": "markdown",
   "metadata": {},
   "source": [
    "## Querying the data"
   ]
  },
  {
   "cell_type": "markdown",
   "metadata": {},
   "source": [
    "### Query 1 – Which companies has Li worked for, and in what roles?"
   ]
  },
  {
   "cell_type": "markdown",
   "metadata": {},
   "source": [
    "To answer this question, we'll have to perform the following steps:\n",
    "\n",
    " 1. Start at the Person vertex representing Li\n",
    " 2. Follow WORKED_FOR edges to find each Company for whom Li has worked\n",
    " 3. Select the Company details, and the role property of the relationship"
   ]
  },
  {
   "cell_type": "markdown",
   "metadata": {},
   "source": [
    "### Write a failing unit test"
   ]
  },
  {
   "cell_type": "code",
   "execution_count": 6,
   "metadata": {},
   "outputs": [
    {
     "data": {
      "application/unittest.status+json": {
       "color": "yellow",
       "message": "",
       "previous": 0
      },
      "text/plain": []
     },
     "metadata": {},
     "output_type": "display_data"
    },
    {
     "data": {
      "application/unittest.status+json": {
       "color": "salmon",
       "message": "F\n======================================================================\nFAIL: test_1 (__main__.JupyterTest)\n----------------------------------------------------------------------\nTraceback (most recent call last):\n  File \"Cell Tests\", line 5, in test_1\nAssertionError: None != [{'company': 'Example Corp', 'role': 'Ana[58 chars]st'}]\n\n----------------------------------------------------------------------\nRan 1 test in 0.000s\n\nFAILED (failures=1)\n",
       "previous": 0
      },
      "text/plain": [
       "Fail"
      ]
     },
     "metadata": {},
     "output_type": "display_data"
    },
    {
     "name": "stdout",
     "output_type": "stream",
     "text": [
      "F\n",
      "======================================================================\n",
      "FAIL: test_1 (__main__.JupyterTest)\n",
      "----------------------------------------------------------------------\n",
      "Traceback (most recent call last):\n",
      "  File \"Cell Tests\", line 5, in test_1\n",
      "AssertionError: None != [{'company': 'Example Corp', 'role': 'Ana[58 chars]st'}]\n",
      "\n",
      "----------------------------------------------------------------------\n",
      "Ran 1 test in 0.000s\n",
      "\n",
      "FAILED (failures=1)\n"
     ]
    },
    {
     "data": {
      "text/plain": [
       "<unittest.runner.TextTestResult run=1 errors=0 failures=1>"
      ]
     },
     "execution_count": 6,
     "metadata": {},
     "output_type": "execute_result"
    }
   ],
   "source": [
    "%%unittest\n",
    "\n",
    "results = None # TODO\n",
    "\n",
    "assert results == [{'company': 'Example Corp', 'role': 'Analyst'}, \n",
    "                   {'company': 'AnyCompany', 'role': 'Associate Analyst'}]"
   ]
  },
  {
   "cell_type": "markdown",
   "metadata": {},
   "source": [
    "### And write the query to make it pass"
   ]
  },
  {
   "cell_type": "code",
   "execution_count": 7,
   "metadata": {},
   "outputs": [
    {
     "data": {
      "application/unittest.status+json": {
       "color": "yellow",
       "message": "",
       "previous": 0
      },
      "text/plain": []
     },
     "metadata": {},
     "output_type": "display_data"
    },
    {
     "data": {
      "application/unittest.status+json": {
       "color": "lightgreen",
       "message": ".\n----------------------------------------------------------------------\nRan 1 test in 0.077s\n\nOK\n",
       "previous": 0
      },
      "text/plain": [
       "Success"
      ]
     },
     "metadata": {},
     "output_type": "display_data"
    },
    {
     "name": "stdout",
     "output_type": "stream",
     "text": [
      ".\n",
      "----------------------------------------------------------------------\n",
      "Ran 1 test in 0.077s\n",
      "\n",
      "OK\n"
     ]
    },
    {
     "data": {
      "text/plain": [
       "<unittest.runner.TextTestResult run=1 errors=0 failures=0>"
      ]
     },
     "execution_count": 7,
     "metadata": {},
     "output_type": "execute_result"
    }
   ],
   "source": [
    "%%unittest\n",
    "\n",
    "results = (g.V('p-3').\n",
    "             outE('WORKED_FOR').as_('e').\n",
    "             otherV().\n",
    "             project('company', 'role').\n",
    "             by('name').\n",
    "             by(select('e').values('role')).\n",
    "             toList())\n",
    "\n",
    "assert results == [{'company': 'Example Corp', 'role': 'Analyst'}, \n",
    "                   {'company': 'AnyCompany', 'role': 'Associate Analyst'}]"
   ]
  },
  {
   "cell_type": "code",
   "execution_count": null,
   "metadata": {},
   "outputs": [],
   "source": []
  }
 ],
 "metadata": {
  "kernelspec": {
   "display_name": "conda_python3",
   "language": "python",
   "name": "conda_python3"
  },
  "language_info": {
   "codemirror_mode": {
    "name": "ipython",
    "version": 3
   },
   "file_extension": ".py",
   "mimetype": "text/x-python",
   "name": "python",
   "nbconvert_exporter": "python",
   "pygments_lexer": "ipython3",
   "version": "3.6.5"
  }
 },
 "nbformat": 4,
 "nbformat_minor": 4
}
